{
 "cells": [
  {
   "cell_type": "markdown",
   "metadata": {
    "id": "5fkUj6YTpsrz"
   },
   "source": [
    "* Github\n",
    "* Groupby\n",
    "* pivot_table\n",
    "Shift+Tb for tip hints"
   ]
  },
  {
   "cell_type": "code",
   "execution_count": null,
   "metadata": {
    "executionInfo": {
     "elapsed": 285,
     "status": "ok",
     "timestamp": 1660476416919,
     "user": {
      "displayName": "Shai Tirgulim",
      "userId": "18041892042069420089"
     },
     "user_tz": -180
    },
    "id": "MtZKOA-4uves"
   },
   "outputs": [],
   "source": [
    "import numpy as np\n",
    "import pandas as pd\n",
    "import seaborn as sns"
   ]
  },
  {
   "cell_type": "code",
   "execution_count": null,
   "metadata": {
    "colab": {
     "base_uri": "https://localhost:8080/",
     "height": 206
    },
    "executionInfo": {
     "elapsed": 648,
     "status": "ok",
     "timestamp": 1660476452370,
     "user": {
      "displayName": "Shai Tirgulim",
      "userId": "18041892042069420089"
     },
     "user_tz": -180
    },
    "id": "OaVnsp7iG2te",
    "outputId": "b9e77d9c-f9a7-4e9e-bf4b-f33632b8fc17"
   },
   "outputs": [],
   "source": [
    "url = 'https://raw.githubusercontent.com/RonAlfi/DS2022C/main/CSVFiles/titanic_short.csv'\n",
    "df = pd.read_csv(url)\n",
    "df.head()"
   ]
  },
  {
   "cell_type": "markdown",
   "metadata": {
    "id": "cSen1gLLh0Ka"
   },
   "source": [
    "# Github:\n",
    "## tutorials:\n",
    "### Watch the Hebrew 2 Github tutorials untill class 7\n",
    "### Hebrew: https://www.youtube.com/watch?v=oZWUOv6uoo4&list=PLEtZq1oDporg47CTGbru8sJ4afgx8gaBj&index=2\n",
    "### English: https://www.youtube.com/watch?v=RGOj5yH7evk\n",
    "* Sign Up to Github (volunteer)\n",
    "* Create new repository (i.e. project). add readme\n",
    "* Create new folder (add file abbuse)\n",
    "* Upload a file (some csv, preclass download csv)\n",
    "* Get url by clicking file->raw\n",
    "* Read file by url in python and display"
   ]
  },
  {
   "cell_type": "code",
   "execution_count": null,
   "metadata": {
    "id": "YfZP8YMOhzAr"
   },
   "outputs": [],
   "source": [
    "## Uncomment and paste Github file raw url\n",
    "# url = # paste Github url\n",
    "# myData = pd.read_csv(url)\n",
    "# myData.tail()"
   ]
  },
  {
   "cell_type": "markdown",
   "metadata": {
    "id": "eENgpjkUp2sj"
   },
   "source": [
    " # an existing titanic practice data set"
   ]
  },
  {
   "cell_type": "code",
   "execution_count": null,
   "metadata": {
    "colab": {
     "base_uri": "https://localhost:8080/",
     "height": 206
    },
    "executionInfo": {
     "elapsed": 423,
     "status": "ok",
     "timestamp": 1660469823690,
     "user": {
      "displayName": "Shai Tirgulim",
      "userId": "18041892042069420089"
     },
     "user_tz": -180
    },
    "id": "kZn8Hvtxuvey",
    "outputId": "8fb2dd57-04fb-4716-9248-f5677e1ce3f6"
   },
   "outputs": [],
   "source": [
    "titanic = sns.load_dataset('titanic')\n",
    "titanic.tail() # note survived is 0 or 1\n"
   ]
  },
  {
   "cell_type": "markdown",
   "metadata": {
    "id": "nkX9tX-Yp8sU"
   },
   "source": [
    "* groupby sex and the mean of survival rate:"
   ]
  },
  {
   "cell_type": "code",
   "execution_count": null,
   "metadata": {
    "colab": {
     "base_uri": "https://localhost:8080/",
     "height": 143
    },
    "executionInfo": {
     "elapsed": 29,
     "status": "ok",
     "timestamp": 1660469823692,
     "user": {
      "displayName": "Shai Tirgulim",
      "userId": "18041892042069420089"
     },
     "user_tz": -180
    },
    "id": "PrApASRvuve0",
    "outputId": "1cf2be97-c8ac-480c-cb9f-4abab405a941"
   },
   "outputs": [],
   "source": [
    "titanic.groupby('sex')[['survived']].mean() # note double [[ due to series"
   ]
  },
  {
   "cell_type": "markdown",
   "metadata": {
    "id": "8Mz1lNKoqCqW"
   },
   "source": [
    "### we could also groupby sex and class:"
   ]
  },
  {
   "cell_type": "code",
   "execution_count": null,
   "metadata": {
    "colab": {
     "base_uri": "https://localhost:8080/",
     "height": 143
    },
    "executionInfo": {
     "elapsed": 23,
     "status": "ok",
     "timestamp": 1660469823693,
     "user": {
      "displayName": "Shai Tirgulim",
      "userId": "18041892042069420089"
     },
     "user_tz": -180
    },
    "id": "6DhbkVmwuve3",
    "outputId": "4e79ed8f-fad1-4909-8d39-a0a6f0e56885"
   },
   "outputs": [],
   "source": [
    "gbTitanic = titanic\n",
    "gbTitanic.groupby(['sex', 'class'])['survived'].aggregate('mean').unstack()\n",
    "# seems complicated?"
   ]
  },
  {
   "cell_type": "code",
   "execution_count": null,
   "metadata": {
    "colab": {
     "base_uri": "https://localhost:8080/",
     "height": 143
    },
    "executionInfo": {
     "elapsed": 565,
     "status": "ok",
     "timestamp": 1660469824240,
     "user": {
      "displayName": "Shai Tirgulim",
      "userId": "18041892042069420089"
     },
     "user_tz": -180
    },
    "id": "-Qbsui9Puve5",
    "outputId": "86f996a3-0684-41da-a2ab-5f788617cc33"
   },
   "outputs": [],
   "source": [
    "# pivot table come to the rescue.\n",
    "# what is a pivot table: https://en.wikipedia.org/wiki/Pivot_table\n",
    "# a pivot table summerize data\n",
    "# default value of PT is mean\n",
    "ptTitatnic = titanic\n",
    "ptTitatnic.pivot_table('survived', index='sex', columns='class')\n"
   ]
  },
  {
   "cell_type": "markdown",
   "metadata": {
    "id": "_2uE5c6gqVuJ"
   },
   "source": [
    "* note mean was the default value for calculation,\n",
    "* how would we apply different criteria?\n",
    "* aggfunc parameter comes to the rescue"
   ]
  },
  {
   "cell_type": "code",
   "execution_count": null,
   "metadata": {
    "colab": {
     "base_uri": "https://localhost:8080/",
     "height": 143
    },
    "executionInfo": {
     "elapsed": 59,
     "status": "ok",
     "timestamp": 1660469824241,
     "user": {
      "displayName": "Shai Tirgulim",
      "userId": "18041892042069420089"
     },
     "user_tz": -180
    },
    "id": "EY_o8XZ0JxS5",
    "outputId": "5f776d04-7d84-440f-86bb-c54044a40749"
   },
   "outputs": [],
   "source": [
    "titanic.pivot_table('survived', index='sex', columns='class', aggfunc='sum')"
   ]
  },
  {
   "cell_type": "markdown",
   "metadata": {
    "id": "FZ0c3QNErYH6"
   },
   "source": [
    "## we can add a third age dimension, for example cut on age of 18:\n",
    "* Why the aggregated amount is not as without age cut"
   ]
  },
  {
   "cell_type": "code",
   "execution_count": null,
   "metadata": {
    "colab": {
     "base_uri": "https://localhost:8080/",
     "height": 206
    },
    "executionInfo": {
     "elapsed": 52,
     "status": "ok",
     "timestamp": 1660469824242,
     "user": {
      "displayName": "Shai Tirgulim",
      "userId": "18041892042069420089"
     },
     "user_tz": -180
    },
    "id": "FVj2mSkJSuCl",
    "outputId": "f701e0f8-b972-49a1-ea16-bf69500a4d69"
   },
   "outputs": [],
   "source": [
    "age = pd.cut(titanic['age'], [0, 18, 100]) \n",
    "titanic.pivot_table('survived', ['sex', age], 'class', aggfunc={'survived':sum}) # survived us 0 or 1, therefore sum is amount of survivors"
   ]
  },
  {
   "cell_type": "markdown",
   "metadata": {
    "id": "gAbkhwk2q6Mw"
   },
   "source": [
    "* The reason is sum not as the total is  NaN age values"
   ]
  },
  {
   "cell_type": "code",
   "execution_count": null,
   "metadata": {},
   "outputs": [],
   "source": []
  },
  {
   "cell_type": "code",
   "execution_count": null,
   "metadata": {
    "colab": {
     "base_uri": "https://localhost:8080/",
     "height": 206
    },
    "executionInfo": {
     "elapsed": 48,
     "status": "ok",
     "timestamp": 1660469824244,
     "user": {
      "displayName": "Shai Tirgulim",
      "userId": "18041892042069420089"
     },
     "user_tz": -180
    },
    "id": "T0Gkc5SSuve7",
    "outputId": "494f61e7-9adb-4a99-8fa7-d225c5ac2746"
   },
   "outputs": [],
   "source": [
    "\n",
    "age = pd.cut(titanic['age'], [0, 18, 80],include_lowest=True) #include_lowest=True include 0 edge\n",
    "titanic.pivot_table('survived', ['sex', age], 'class')"
   ]
  },
  {
   "cell_type": "markdown",
   "metadata": {
    "id": "ZjdkfsZdsIeK"
   },
   "source": [
    "* note we displayed the mean, alothough we did not specify it (default).\n",
    "* we can specify other aggregartion functions, for example sum:\n",
    "* math signs: ( not include, ] include"
   ]
  },
  {
   "cell_type": "markdown",
   "metadata": {
    "id": "HiI5wnizsZ8a"
   },
   "source": [
    "## We can count amount of records (regardless to survival)\n",
    "* len is the total count of passangers in category"
   ]
  },
  {
   "cell_type": "code",
   "execution_count": null,
   "metadata": {
    "colab": {
     "base_uri": "https://localhost:8080/",
     "height": 206
    },
    "executionInfo": {
     "elapsed": 43,
     "status": "ok",
     "timestamp": 1660469824245,
     "user": {
      "displayName": "Shai Tirgulim",
      "userId": "18041892042069420089"
     },
     "user_tz": -180
    },
    "id": "psGsxJ14uve-",
    "outputId": "f4feffb9-14aa-4e37-b5da-84ffe579125b"
   },
   "outputs": [],
   "source": [
    "age = pd.cut(titanic['age'], [0, 18, 80])\n",
    "titanic.pivot_table('survived', ['sex', age], 'class', aggfunc={'survived':len}) "
   ]
  },
  {
   "cell_type": "markdown",
   "metadata": {
    "id": "JO5SX9D5slNY"
   },
   "source": [
    "* display both amount of survivors and records:"
   ]
  },
  {
   "cell_type": "code",
   "execution_count": null,
   "metadata": {
    "colab": {
     "base_uri": "https://localhost:8080/",
     "height": 238
    },
    "executionInfo": {
     "elapsed": 269,
     "status": "ok",
     "timestamp": 1660469849137,
     "user": {
      "displayName": "Shai Tirgulim",
      "userId": "18041892042069420089"
     },
     "user_tz": -180
    },
    "id": "_xZePiRxuve_",
    "outputId": "8ddc3d1e-82f5-4f35-d22c-81d938a73409"
   },
   "outputs": [],
   "source": [
    "age = pd.cut(titanic['age'], [0, 18, 80])\n",
    "titanic.pivot_table('survived', ['sex', age], 'class', aggfunc=[sum , len])"
   ]
  },
  {
   "cell_type": "markdown",
   "metadata": {
    "id": "KOZjfYIHswV_"
   },
   "source": [
    "## We can use the margins keyword to get the total amount of stats:"
   ]
  },
  {
   "cell_type": "code",
   "execution_count": null,
   "metadata": {
    "colab": {
     "base_uri": "https://localhost:8080/",
     "height": 175
    },
    "executionInfo": {
     "elapsed": 38,
     "status": "ok",
     "timestamp": 1660469824248,
     "user": {
      "displayName": "Shai Tirgulim",
      "userId": "18041892042069420089"
     },
     "user_tz": -180
    },
    "id": "5cpdnc-euvfB",
    "outputId": "e8fe946a-060a-47ee-c597-d4b79f1ca59d"
   },
   "outputs": [],
   "source": [
    "\n",
    "titanic.pivot_table('survived',index='sex', columns='class',margins=True , aggfunc='sum')"
   ]
  },
  {
   "cell_type": "markdown",
   "metadata": {
    "id": "e5IdEihot_fR"
   },
   "source": [
    "* Note 72+10 < 91 female, first class for example, this is due to Nan"
   ]
  },
  {
   "cell_type": "markdown",
   "metadata": {
    "id": "MfByxm_Gs54I"
   },
   "source": [
    "### Take first half of data"
   ]
  },
  {
   "cell_type": "code",
   "execution_count": null,
   "metadata": {
    "colab": {
     "base_uri": "https://localhost:8080/",
     "height": 143
    },
    "executionInfo": {
     "elapsed": 37,
     "status": "ok",
     "timestamp": 1660469824249,
     "user": {
      "displayName": "Shai Tirgulim",
      "userId": "18041892042069420089"
     },
     "user_tz": -180
    },
    "id": "4DFwbHGpmqm1",
    "outputId": "42e74a97-0bb2-4b5e-e5ca-bbbf9dbc8fe2"
   },
   "outputs": [],
   "source": [
    "titanic.pivot_table('survived', index='sex', columns='class', aggfunc='sum')"
   ]
  },
  {
   "cell_type": "code",
   "execution_count": null,
   "metadata": {
    "colab": {
     "base_uri": "https://localhost:8080/",
     "height": 206
    },
    "executionInfo": {
     "elapsed": 36,
     "status": "ok",
     "timestamp": 1660469824250,
     "user": {
      "displayName": "Shai Tirgulim",
      "userId": "18041892042069420089"
     },
     "user_tz": -180
    },
    "id": "CqtCsdDJuvfB",
    "outputId": "d00139db-87d0-4bd6-97ce-0fc9604614cc"
   },
   "outputs": [],
   "source": [
    "copyTitanic = titanic\n",
    "length = copyTitanic.shape[0]\n",
    "copyTitanic = copyTitanic[:length//2] \n",
    "copyTitanic.tail()"
   ]
  },
  {
   "cell_type": "markdown",
   "metadata": {
    "id": "IvANyjO5tJcj"
   },
   "source": [
    "# self learning:\n",
    "### 1. learn about github: https://guides.github.com/activities/hello-world/\n",
    "### video tutorial: https://www.youtube.com/watch?v=dS1mZP54p3I\n",
    "### 2. excercises with solution: https://www.w3resource.com/python-exercises/pandas/excel/index-pivot.php\n",
    "### (note first 13 are by excel sheet and csv examples comes after)"
   ]
  }
 ],
 "metadata": {
  "colab": {
   "collapsed_sections": [],
   "name": "tirgul6_Groupby_Pivot_Github.ipynb",
   "provenance": []
  },
  "kernelspec": {
   "display_name": "Python 3 (ipykernel)",
   "language": "python",
   "name": "python3"
  },
  "language_info": {
   "codemirror_mode": {
    "name": "ipython",
    "version": 3
   },
   "file_extension": ".py",
   "mimetype": "text/x-python",
   "name": "python",
   "nbconvert_exporter": "python",
   "pygments_lexer": "ipython3",
   "version": "3.9.7"
  }
 },
 "nbformat": 4,
 "nbformat_minor": 4
}
